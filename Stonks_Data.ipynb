{
  "nbformat": 4,
  "nbformat_minor": 0,
  "metadata": {
    "colab": {
      "name": "Stonks_Data.ipynb",
      "provenance": [],
      "collapsed_sections": [],
      "mount_file_id": "1QQjuesglINCGlx9UhdI5FmaOn-XJcC41",
      "authorship_tag": "ABX9TyOuS7DpKHspy1fmZ30wS0dQ",
      "include_colab_link": true
    },
    "kernelspec": {
      "name": "python3",
      "display_name": "Python 3"
    }
  },
  "cells": [
    {
      "cell_type": "markdown",
      "metadata": {
        "id": "view-in-github",
        "colab_type": "text"
      },
      "source": [
        "<a href=\"https://colab.research.google.com/github/tanay2001/Stock-Trading-Bot-/blob/master/Stonks_Data.ipynb\" target=\"_parent\"><img src=\"https://colab.research.google.com/assets/colab-badge.svg\" alt=\"Open In Colab\"/></a>"
      ]
    },
    {
      "cell_type": "code",
      "metadata": {
        "id": "_v2uaEfTY3DV",
        "colab_type": "code",
        "colab": {
          "base_uri": "https://localhost:8080/",
          "height": 70
        },
        "outputId": "c1c79b6b-5deb-4528-a2c7-2eceb3eecb08"
      },
      "source": [
        "import numpy as np\n",
        "import pandas as pd"
      ],
      "execution_count": null,
      "outputs": [
        {
          "output_type": "stream",
          "text": [
            "/usr/local/lib/python3.6/dist-packages/pandas_datareader/compat/__init__.py:7: FutureWarning: pandas.util.testing is deprecated. Use the functions in the public API at pandas.testing instead.\n",
            "  from pandas.util.testing import assert_frame_equal\n"
          ],
          "name": "stderr"
        }
      ]
    },
    {
      "cell_type": "code",
      "metadata": {
        "id": "-fkYXvpTMM1q",
        "colab_type": "code",
        "colab": {}
      },
      "source": [
        "def indicators(dataset):\n",
        "  # Create 7 and 21 days Moving Average\n",
        "    dataset['ma7'] = dataset['Close'].rolling(window=7).mean()\n",
        "    dataset['ma21'] = dataset['Close'].rolling(window=21).mean()\n",
        "    \n",
        "    # Create MACD\n",
        "    dataset['12ema'] = dataset.Close.ewm(span=12, adjust=False).mean()\n",
        "    dataset['26ema'] = dataset.Close.ewm(span=26, adjust=False).mean()\n",
        "    dataset['MACD'] = (dataset['12ema']-dataset['26ema'])\n",
        "\n",
        "    # Create Bollinger Bands\n",
        "    dataset['20std'] = dataset['Close'].rolling(window=20).std()\n",
        "    dataset['upper_band'] = dataset['ma21'] + (dataset['20std']*2)\n",
        "    dataset['lower_band'] = dataset['ma21'] - (dataset['20std']*2)\n",
        "    \n",
        "    # Create Exponential moving average\n",
        "    dataset['ema'] = dataset['Close'].ewm(com=0.5).mean()\n",
        "    \n",
        "    return dataset"
      ],
      "execution_count": null,
      "outputs": []
    },
    {
      "cell_type": "code",
      "metadata": {
        "id": "toec1wzwQ-nd",
        "colab_type": "code",
        "colab": {}
      },
      "source": [
        "def get_sar(s, af=0.02, amax=0.2):\n",
        "    high, low = s.High, s.Low\n",
        "\n",
        "    # Starting values\n",
        "    sig0, xpt0, af0 = True, high[0], af\n",
        "    sar = [low[0] - (high - low).std()]\n",
        "\n",
        "    for i in range(1, len(s)):\n",
        "        sig1, xpt1, af1 = sig0, xpt0, af0\n",
        "\n",
        "        lmin = min(low[i - 1], low[i])\n",
        "        lmax = max(high[i - 1], high[i])\n",
        "\n",
        "        if sig1:\n",
        "            sig0 = low[i] > sar[-1]\n",
        "            xpt0 = max(lmax, xpt1)\n",
        "        else:\n",
        "            sig0 = high[i] >= sar[-1]\n",
        "            xpt0 = min(lmin, xpt1)\n",
        "\n",
        "        if sig0 == sig1:\n",
        "            sari = sar[-1] + (xpt1 - sar[-1])*af1\n",
        "            af0 = min(amax, af1 + af)\n",
        "\n",
        "            if sig0:\n",
        "                af0 = af0 if xpt0 > xpt1 else af1\n",
        "                sari = min(sari, lmin)\n",
        "            else:\n",
        "                af0 = af0 if xpt0 < xpt1 else af1\n",
        "                sari = max(sari, lmax)\n",
        "        else:\n",
        "            af0 = af\n",
        "            sari = xpt0\n",
        "\n",
        "        sar.append(sari)\n",
        "\n",
        "    return pd.Series(sar, index=s.index)"
      ],
      "execution_count": null,
      "outputs": []
    },
    {
      "cell_type": "code",
      "metadata": {
        "id": "ZS0JBy1iZS1b",
        "colab_type": "code",
        "colab": {}
      },
      "source": [
        "def rsiFunc(prices, n=14):\n",
        "    deltas = np.diff(prices)\n",
        "    seed = deltas[:n+1]\n",
        "    up = seed[seed>=0].sum()/n\n",
        "    down = -seed[seed<0].sum()/n\n",
        "    rs = up/down\n",
        "    rsi = np.zeros_like(prices)\n",
        "    rsi[:n] = 100. - 100./(1.+rs)\n",
        "\n",
        "    for i in range(n, len(prices)):\n",
        "        delta = deltas[i-1] # cause the diff is 1 shorter\n",
        "\n",
        "        if delta>0:\n",
        "            upval = delta\n",
        "            downval = 0.\n",
        "        else:\n",
        "            upval = 0.\n",
        "            downval = -delta\n",
        "\n",
        "        up = (up*(n-1) + upval)/n\n",
        "        down = (down*(n-1) + downval)/n\n",
        "\n",
        "        rs = up/down\n",
        "        rsi[i] = 100. - 100./(1.+rs)\n",
        "\n",
        "    return rsi"
      ],
      "execution_count": null,
      "outputs": []
    },
    {
      "cell_type": "code",
      "metadata": {
        "id": "wjGWmgDXDMYB",
        "colab_type": "code",
        "colab": {}
      },
      "source": [
        "def preprocess(df):\n",
        "  dataset = df.filter(['High','Low','Open','Close','Volume'])\n",
        "  dataset.reset_index()\n",
        "  dataset_indicators = indicators(dataset)\n",
        "  sar=get_sar(dataset)\n",
        "  dataset_indicators['sar']=sar\n",
        "  rsi= rsiFunc(dataset['Close'])\n",
        "  dataset_indicators['rsi']=rsi\n",
        "  return dataset_indicators"
      ],
      "execution_count": null,
      "outputs": []
    }
  ]
}